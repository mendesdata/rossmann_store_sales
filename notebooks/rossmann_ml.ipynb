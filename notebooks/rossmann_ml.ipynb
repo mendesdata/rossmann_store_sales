{
 "cells": [
  {
   "cell_type": "markdown",
   "metadata": {},
   "source": [
    "# 0.0 General Section"
   ]
  },
  {
   "cell_type": "markdown",
   "metadata": {},
   "source": [
    "## 0.1 Import Libraries"
   ]
  },
  {
   "cell_type": "code",
   "execution_count": 1,
   "metadata": {},
   "outputs": [],
   "source": [
    "import pandas  as pd\n",
    "import numpy   as np\n",
    "import xgboost as xgb\n",
    "\n",
    "import datetime\n",
    "import warnings\n",
    "\n",
    "from sklearn.ensemble      import RandomForestRegressor\n",
    "from sklearn.linear_model  import LinearRegression, Lasso\n",
    "from sklearn.metrics       import mean_absolute_error, mean_absolute_percentage_error, mean_squared_error\n",
    "\n",
    "warnings.filterwarnings( 'ignore' )"
   ]
  },
  {
   "cell_type": "markdown",
   "metadata": {},
   "source": [
    "## 0.2 Load Data"
   ]
  },
  {
   "cell_type": "code",
   "execution_count": 2,
   "metadata": {},
   "outputs": [],
   "source": [
    "df_train_feat = pd.read_csv( '../data/train_feat.csv',  low_memory= False )"
   ]
  },
  {
   "cell_type": "markdown",
   "metadata": {},
   "source": [
    "## 0.3 Change Types"
   ]
  },
  {
   "cell_type": "code",
   "execution_count": 3,
   "metadata": {},
   "outputs": [],
   "source": [
    "df_train_feat['date'] = pd.to_datetime( df_train_feat['date'] )"
   ]
  },
  {
   "cell_type": "markdown",
   "metadata": {},
   "source": [
    "## 0.3 Functions"
   ]
  },
  {
   "cell_type": "code",
   "execution_count": 4,
   "metadata": {},
   "outputs": [],
   "source": [
    "def ml_error( model_name, y, yhat ):\n",
    "    mae  = mean_absolute_error( y, yhat )\n",
    "    mape = mean_absolute_percentage_error( y, yhat )\n",
    "    rmse = np.sqrt( mean_squared_error( y, yhat ) )\n",
    "\n",
    "    return pd.DataFrame( { 'Model Name' : model_name,\n",
    "                           'MAE'        : mae,\n",
    "                           'MAPE'       : mape,\n",
    "                           'RMSE'       : rmse\n",
    "                           }, index=[0] )\n",
    "\n",
    "def cross_validation( x_training, kfold, model_name, model, verbose=False ):\n",
    "    mae_list =  []\n",
    "    mape_list = []\n",
    "    rmse_list = []\n",
    "\n",
    "    for k in reversed( range( 1, kfold+1 ) ):\n",
    "        # start and end date for validation\n",
    "        validation_start_date = x_training['date'].max() - datetime.timedelta( days=k*6*7 )\n",
    "        validation_end_date   = x_training['date'].max() - datetime.timedelta( days=( k-1 )*6*7 )\n",
    "\n",
    "        if verbose:\n",
    "            print(f'\\nValidation Block: { k }. Dates: { validation_start_date } - { validation_end_date }' )\n",
    "\n",
    "                                                                            \n",
    "        # filtering dataset\n",
    "        training   = x_training[ x_training['date'] <= validation_start_date]\n",
    "        validation = x_training[ (x_training['date'] > validation_start_date) & (x_training['date'] <= validation_end_date) ]\n",
    "\n",
    "        # training dataset\n",
    "        xtraining = training.drop( ['date', 'sales'], axis=1 )\n",
    "        ytraining = training['sales']\n",
    "\n",
    "        # validation\n",
    "        xvalidation = validation.drop( ['date', 'sales'], axis=1 )\n",
    "        yvalidation = validation['sales']\n",
    "\n",
    "        # model\n",
    "        m = model.fit( xtraining, ytraining )\n",
    "\n",
    "        # prediction\n",
    "        yhat = m.predict( xvalidation )\n",
    "\n",
    "        # performance\n",
    "        m_result = ml_error( model_name, np.expm1( yvalidation ), np.expm1( yhat ) )\n",
    "\n",
    "        # store performance of each kfold iteration\n",
    "        mae_list.append( m_result['MAE'] )\n",
    "        mape_list.append( m_result['MAPE'] )\n",
    "        rmse_list.append( m_result['RMSE'] )\n",
    "\n",
    "        \n",
    "\n",
    "    return pd.DataFrame( {  'Model Name': model_name,\n",
    "                            'MAE CV'  : np.round( np.mean( mae_list ),  2 ).astype( str ) + ' +/- ' + np.round( np.std( mae_list ), 2 ).astype( str ),\n",
    "                            'MAPE CV' : np.round( np.mean( mape_list ), 2 ).astype( str ) + ' +/- ' + np.round( np.std( mape_list ), 2 ).astype( str ),\n",
    "                            'RMSE CV' : np.round( np.mean( rmse_list ), 2 ).astype( str ) + ' +/- ' + np.round( np.std( rmse_list ), 2 ).astype( str )\n",
    "                        }, index=[0] )\n",
    "\n",
    "# def mean_percentage_error( y, yhat ):\n",
    "#    return np.mean( ( y - yhat ) / y )"
   ]
  },
  {
   "cell_type": "markdown",
   "metadata": {},
   "source": [
    "## 0.5 Split df_feat_train in two datasets: X_train( full ) and X_validation( last 36 weeks )"
   ]
  },
  {
   "cell_type": "code",
   "execution_count": 5,
   "metadata": {},
   "outputs": [
    {
     "name": "stdout",
     "output_type": "stream",
     "text": [
      "First date: 2014-11-21 00:00:00\n",
      "Last date: 2015-07-31 00:00:00\n",
      "\n",
      "First date Validation: 2014-11-22 00:00:00\n",
      "Last date Validation: 2015-01-03 00:00:00\n",
      "\n",
      " 42 days 00:00:00\n"
     ]
    }
   ],
   "source": [
    "# calculate period - last 36  weeks\n",
    "last_date  = df_train_feat[['store', 'date']].groupby( 'store' ).max().reset_index().loc[0, 'date']\n",
    "first_date = last_date - datetime.timedelta( days=36*7 )\n",
    "\n",
    "last_date_period = last_date\n",
    "\n",
    "print(f'First date: {first_date}')\n",
    "print(f'Last date: {last_date}')\n",
    "\n",
    "# creating full datasets: X_train e X_validation\n",
    "X_train      = df_train_feat.copy() \n",
    "X_validation = X_train[ X_train['date'] > first_date ]\n",
    "\n",
    "# create x_train, y_train variables\n",
    "x_train = X_train[ X_train['date'] <= first_date ]\n",
    "y_train = x_train['sales']\n",
    "x_train = x_train.drop( ['date', 'sales'], axis=1 )\n",
    "\n",
    "# calculate period - first 6 weeks from validation dataset\n",
    "first_date = X_validation[['store', 'date']].groupby( 'store' ).min().reset_index().loc[0, 'date']\n",
    "last_date  = first_date + datetime.timedelta( days=6*7 )\n",
    "\n",
    "print(f'\\nFirst date Validation: {first_date}')\n",
    "print(f'Last date Validation: {last_date}')\n",
    "\n",
    "# create x_validation, y_validation variables\n",
    "x_validation = X_validation[ X_validation['date'] < last_date ]\n",
    "y_validation = x_validation['sales']\n",
    "x_validation = x_validation.drop( ['date', 'sales'], axis=1 )\n",
    "\n",
    "print(f'\\n { last_date - first_date }' )\n"
   ]
  },
  {
   "cell_type": "markdown",
   "metadata": {},
   "source": [
    "# 1.0 Machine Learning Modelling"
   ]
  },
  {
   "cell_type": "markdown",
   "metadata": {},
   "source": [
    "## 1.1 Average Model"
   ]
  },
  {
   "cell_type": "code",
   "execution_count": 6,
   "metadata": {},
   "outputs": [
    {
     "data": {
      "text/html": [
       "<div>\n",
       "<style scoped>\n",
       "    .dataframe tbody tr th:only-of-type {\n",
       "        vertical-align: middle;\n",
       "    }\n",
       "\n",
       "    .dataframe tbody tr th {\n",
       "        vertical-align: top;\n",
       "    }\n",
       "\n",
       "    .dataframe thead th {\n",
       "        text-align: right;\n",
       "    }\n",
       "</style>\n",
       "<table border=\"1\" class=\"dataframe\">\n",
       "  <thead>\n",
       "    <tr style=\"text-align: right;\">\n",
       "      <th></th>\n",
       "      <th>Model Name</th>\n",
       "      <th>MAE</th>\n",
       "      <th>MAPE</th>\n",
       "      <th>RMSE</th>\n",
       "    </tr>\n",
       "  </thead>\n",
       "  <tbody>\n",
       "    <tr>\n",
       "      <th>0</th>\n",
       "      <td>Average Model</td>\n",
       "      <td>1892.237342</td>\n",
       "      <td>0.259841</td>\n",
       "      <td>2476.199792</td>\n",
       "    </tr>\n",
       "  </tbody>\n",
       "</table>\n",
       "</div>"
      ],
      "text/plain": [
       "      Model Name          MAE      MAPE         RMSE\n",
       "0  Average Model  1892.237342  0.259841  2476.199792"
      ]
     },
     "execution_count": 6,
     "metadata": {},
     "output_type": "execute_result"
    }
   ],
   "source": [
    "# create aux_df with database test + response variable (sales)\n",
    "aux1          = x_validation.copy()\n",
    "aux1['sales'] = y_validation.copy()\n",
    "\n",
    "# prediction\n",
    "aux2 = aux1[['store', 'sales']].groupby( 'store' ).mean().reset_index().rename( columns = {'sales' :  'sales_predictions' } )\n",
    "aux1 = pd.merge( aux1, aux2, how='left', on='store' )\n",
    "yhat_avg = aux1['sales_predictions']\n",
    "\n",
    "# calculate performance with response variable \"sales\" on original scale \n",
    "avg_model_result = ml_error( 'Average Model', np.expm1( y_validation ), np.expm1( yhat_avg ) )\n",
    "avg_model_result"
   ]
  },
  {
   "cell_type": "markdown",
   "metadata": {},
   "source": [
    "## 1.2 Linear Regression Model - Single Performance"
   ]
  },
  {
   "cell_type": "code",
   "execution_count": 7,
   "metadata": {},
   "outputs": [
    {
     "data": {
      "text/html": [
       "<div>\n",
       "<style scoped>\n",
       "    .dataframe tbody tr th:only-of-type {\n",
       "        vertical-align: middle;\n",
       "    }\n",
       "\n",
       "    .dataframe tbody tr th {\n",
       "        vertical-align: top;\n",
       "    }\n",
       "\n",
       "    .dataframe thead th {\n",
       "        text-align: right;\n",
       "    }\n",
       "</style>\n",
       "<table border=\"1\" class=\"dataframe\">\n",
       "  <thead>\n",
       "    <tr style=\"text-align: right;\">\n",
       "      <th></th>\n",
       "      <th>Model Name</th>\n",
       "      <th>MAE</th>\n",
       "      <th>MAPE</th>\n",
       "      <th>RMSE</th>\n",
       "    </tr>\n",
       "  </thead>\n",
       "  <tbody>\n",
       "    <tr>\n",
       "      <th>0</th>\n",
       "      <td>Linear Regression Model</td>\n",
       "      <td>2747.082489</td>\n",
       "      <td>0.313411</td>\n",
       "      <td>3955.414335</td>\n",
       "    </tr>\n",
       "  </tbody>\n",
       "</table>\n",
       "</div>"
      ],
      "text/plain": [
       "                Model Name          MAE      MAPE         RMSE\n",
       "0  Linear Regression Model  2747.082489  0.313411  3955.414335"
      ]
     },
     "execution_count": 7,
     "metadata": {},
     "output_type": "execute_result"
    }
   ],
   "source": [
    "# define model\n",
    "lr_model = LinearRegression().fit( x_train, y_train )\n",
    "\n",
    "# create predictions\n",
    "yhat_lr = lr_model.predict( x_validation )\n",
    "\n",
    "# calculate performance\n",
    "lr_model_result = ml_error( 'Linear Regression Model', np.expm1( y_validation ), np.expm1( yhat_lr) )\n",
    "lr_model_result\n"
   ]
  },
  {
   "cell_type": "markdown",
   "metadata": {},
   "source": [
    "### 1.2.1 Linear Regression Model - Cross Validation"
   ]
  },
  {
   "cell_type": "code",
   "execution_count": 8,
   "metadata": {},
   "outputs": [
    {
     "name": "stdout",
     "output_type": "stream",
     "text": [
      "\n",
      "Validation Block: 5. Dates: 2015-01-02 00:00:00 - 2015-02-13 00:00:00\n",
      "\n",
      "Validation Block: 4. Dates: 2015-02-13 00:00:00 - 2015-03-27 00:00:00\n",
      "\n",
      "Validation Block: 3. Dates: 2015-03-27 00:00:00 - 2015-05-08 00:00:00\n",
      "\n",
      "Validation Block: 2. Dates: 2015-05-08 00:00:00 - 2015-06-19 00:00:00\n",
      "\n",
      "Validation Block: 1. Dates: 2015-06-19 00:00:00 - 2015-07-31 00:00:00\n"
     ]
    },
    {
     "data": {
      "text/html": [
       "<div>\n",
       "<style scoped>\n",
       "    .dataframe tbody tr th:only-of-type {\n",
       "        vertical-align: middle;\n",
       "    }\n",
       "\n",
       "    .dataframe tbody tr th {\n",
       "        vertical-align: top;\n",
       "    }\n",
       "\n",
       "    .dataframe thead th {\n",
       "        text-align: right;\n",
       "    }\n",
       "</style>\n",
       "<table border=\"1\" class=\"dataframe\">\n",
       "  <thead>\n",
       "    <tr style=\"text-align: right;\">\n",
       "      <th></th>\n",
       "      <th>Model Name</th>\n",
       "      <th>MAE CV</th>\n",
       "      <th>MAPE CV</th>\n",
       "      <th>RMSE CV</th>\n",
       "    </tr>\n",
       "  </thead>\n",
       "  <tbody>\n",
       "    <tr>\n",
       "      <th>0</th>\n",
       "      <td>Linear Regression</td>\n",
       "      <td>1946.31 +/- 100.86</td>\n",
       "      <td>0.3 +/- 0.02</td>\n",
       "      <td>2740.6 +/- 184.58</td>\n",
       "    </tr>\n",
       "  </tbody>\n",
       "</table>\n",
       "</div>"
      ],
      "text/plain": [
       "          Model Name              MAE CV       MAPE CV            RMSE CV\n",
       "0  Linear Regression  1946.31 +/- 100.86  0.3 +/- 0.02  2740.6 +/- 184.58"
      ]
     },
     "execution_count": 8,
     "metadata": {},
     "output_type": "execute_result"
    }
   ],
   "source": [
    "lr_model_result_cv = cross_validation( X_train, 5, 'Linear Regression', lr_model, verbose=True )\n",
    "lr_model_result_cv"
   ]
  },
  {
   "cell_type": "markdown",
   "metadata": {},
   "source": [
    "## 1.3 Linear Regression Regularized Model (Lasso) - Single Performance"
   ]
  },
  {
   "cell_type": "code",
   "execution_count": 9,
   "metadata": {},
   "outputs": [
    {
     "data": {
      "text/html": [
       "<div>\n",
       "<style scoped>\n",
       "    .dataframe tbody tr th:only-of-type {\n",
       "        vertical-align: middle;\n",
       "    }\n",
       "\n",
       "    .dataframe tbody tr th {\n",
       "        vertical-align: top;\n",
       "    }\n",
       "\n",
       "    .dataframe thead th {\n",
       "        text-align: right;\n",
       "    }\n",
       "</style>\n",
       "<table border=\"1\" class=\"dataframe\">\n",
       "  <thead>\n",
       "    <tr style=\"text-align: right;\">\n",
       "      <th></th>\n",
       "      <th>Model Name</th>\n",
       "      <th>MAE</th>\n",
       "      <th>MAPE</th>\n",
       "      <th>RMSE</th>\n",
       "    </tr>\n",
       "  </thead>\n",
       "  <tbody>\n",
       "    <tr>\n",
       "      <th>0</th>\n",
       "      <td>Linear Regression Regularized Model - Lasso</td>\n",
       "      <td>2747.164557</td>\n",
       "      <td>0.316044</td>\n",
       "      <td>3957.73905</td>\n",
       "    </tr>\n",
       "  </tbody>\n",
       "</table>\n",
       "</div>"
      ],
      "text/plain": [
       "                                    Model Name          MAE      MAPE  \\\n",
       "0  Linear Regression Regularized Model - Lasso  2747.164557  0.316044   \n",
       "\n",
       "         RMSE  \n",
       "0  3957.73905  "
      ]
     },
     "execution_count": 9,
     "metadata": {},
     "output_type": "execute_result"
    }
   ],
   "source": [
    "# define model\n",
    "lasso_model = Lasso( alpha=0.01 ).fit( x_train, y_train )\n",
    "\n",
    "# create predictions\n",
    "yhat_lasso = lasso_model.predict( x_validation )\n",
    "\n",
    "# calculate performance\n",
    "lasso_model_result = ml_error( 'Linear Regression Regularized Model - Lasso', np.expm1( y_validation), np.expm1( yhat_lasso) )\n",
    "lasso_model_result"
   ]
  },
  {
   "cell_type": "markdown",
   "metadata": {},
   "source": [
    "### 1.3.1 Linear Regression Regularized Model (Lasso) - Cross Validation"
   ]
  },
  {
   "cell_type": "code",
   "execution_count": 10,
   "metadata": {},
   "outputs": [
    {
     "name": "stdout",
     "output_type": "stream",
     "text": [
      "\n",
      "Validation Block: 5. Dates: 2015-01-02 00:00:00 - 2015-02-13 00:00:00\n",
      "\n",
      "Validation Block: 4. Dates: 2015-02-13 00:00:00 - 2015-03-27 00:00:00\n",
      "\n",
      "Validation Block: 3. Dates: 2015-03-27 00:00:00 - 2015-05-08 00:00:00\n",
      "\n",
      "Validation Block: 2. Dates: 2015-05-08 00:00:00 - 2015-06-19 00:00:00\n",
      "\n",
      "Validation Block: 1. Dates: 2015-06-19 00:00:00 - 2015-07-31 00:00:00\n"
     ]
    },
    {
     "data": {
      "text/html": [
       "<div>\n",
       "<style scoped>\n",
       "    .dataframe tbody tr th:only-of-type {\n",
       "        vertical-align: middle;\n",
       "    }\n",
       "\n",
       "    .dataframe tbody tr th {\n",
       "        vertical-align: top;\n",
       "    }\n",
       "\n",
       "    .dataframe thead th {\n",
       "        text-align: right;\n",
       "    }\n",
       "</style>\n",
       "<table border=\"1\" class=\"dataframe\">\n",
       "  <thead>\n",
       "    <tr style=\"text-align: right;\">\n",
       "      <th></th>\n",
       "      <th>Model Name</th>\n",
       "      <th>MAE CV</th>\n",
       "      <th>MAPE CV</th>\n",
       "      <th>RMSE CV</th>\n",
       "    </tr>\n",
       "  </thead>\n",
       "  <tbody>\n",
       "    <tr>\n",
       "      <th>0</th>\n",
       "      <td>Linear Regression Regularized - Lasso</td>\n",
       "      <td>1943.94 +/- 117.43</td>\n",
       "      <td>0.3 +/- 0.01</td>\n",
       "      <td>2764.83 +/- 206.7</td>\n",
       "    </tr>\n",
       "  </tbody>\n",
       "</table>\n",
       "</div>"
      ],
      "text/plain": [
       "                              Model Name              MAE CV       MAPE CV  \\\n",
       "0  Linear Regression Regularized - Lasso  1943.94 +/- 117.43  0.3 +/- 0.01   \n",
       "\n",
       "             RMSE CV  \n",
       "0  2764.83 +/- 206.7  "
      ]
     },
     "execution_count": 10,
     "metadata": {},
     "output_type": "execute_result"
    }
   ],
   "source": [
    "lasso_model_result_cv = cross_validation( X_train, 5, 'Linear Regression Regularized - Lasso', lasso_model, verbose=True )\n",
    "lasso_model_result_cv"
   ]
  },
  {
   "cell_type": "markdown",
   "metadata": {},
   "source": [
    "## 1.4 Random Forest Model - Single Performance"
   ]
  },
  {
   "cell_type": "code",
   "execution_count": 11,
   "metadata": {},
   "outputs": [
    {
     "ename": "SyntaxError",
     "evalue": "incomplete input (1035288268.py, line 1)",
     "output_type": "error",
     "traceback": [
      "\u001b[0;36m  Cell \u001b[0;32mIn[11], line 1\u001b[0;36m\u001b[0m\n\u001b[0;31m    \"\"\"\u001b[0m\n\u001b[0m    ^\u001b[0m\n\u001b[0;31mSyntaxError\u001b[0m\u001b[0;31m:\u001b[0m incomplete input\n"
     ]
    }
   ],
   "source": [
    "# define model\n",
    "# rf_model = RandomForestRegressor( n_estimators=100, n_jobs=-1, random_state=42 ).fit( x_train, y_train )\n",
    "\n",
    "# create predictions\n",
    "# yhat_rf = rf_model.predict( x_validation )\n",
    "\n",
    "# calculate performance\n",
    "# rf_model_result = ml_error( 'Random Forest Model', np.expm1( y_validation ), np.expm1( yhat_rf) )\n",
    "# rf_model_result"
   ]
  },
  {
   "cell_type": "markdown",
   "metadata": {},
   "source": [
    "### 1.4.1 Random Forest Model - Cross Validation"
   ]
  },
  {
   "cell_type": "code",
   "execution_count": null,
   "metadata": {},
   "outputs": [],
   "source": [
    "# rf_result_cv = cross_validation( X_train, 5, 'Random Forest Model', rf_model, verbose=True )\n",
    "# rf_result_cv"
   ]
  },
  {
   "cell_type": "markdown",
   "metadata": {},
   "source": [
    "## 1.5 XGBoost Model - Single Performance"
   ]
  },
  {
   "cell_type": "markdown",
   "metadata": {},
   "source": []
  },
  {
   "cell_type": "code",
   "execution_count": 12,
   "metadata": {},
   "outputs": [
    {
     "data": {
      "text/html": [
       "<div>\n",
       "<style scoped>\n",
       "    .dataframe tbody tr th:only-of-type {\n",
       "        vertical-align: middle;\n",
       "    }\n",
       "\n",
       "    .dataframe tbody tr th {\n",
       "        vertical-align: top;\n",
       "    }\n",
       "\n",
       "    .dataframe thead th {\n",
       "        text-align: right;\n",
       "    }\n",
       "</style>\n",
       "<table border=\"1\" class=\"dataframe\">\n",
       "  <thead>\n",
       "    <tr style=\"text-align: right;\">\n",
       "      <th></th>\n",
       "      <th>Model Name</th>\n",
       "      <th>MAE</th>\n",
       "      <th>MAPE</th>\n",
       "      <th>RMSE</th>\n",
       "    </tr>\n",
       "  </thead>\n",
       "  <tbody>\n",
       "    <tr>\n",
       "      <th>0</th>\n",
       "      <td>XGBoost Regressor</td>\n",
       "      <td>1409.380561</td>\n",
       "      <td>0.190944</td>\n",
       "      <td>1957.450144</td>\n",
       "    </tr>\n",
       "  </tbody>\n",
       "</table>\n",
       "</div>"
      ],
      "text/plain": [
       "          Model Name          MAE      MAPE         RMSE\n",
       "0  XGBoost Regressor  1409.380561  0.190944  1957.450144"
      ]
     },
     "execution_count": 12,
     "metadata": {},
     "output_type": "execute_result"
    }
   ],
   "source": [
    "# define model\n",
    "xgb_model = xgb.XGBRegressor( objective='reg:squarederror', \n",
    "                              n_estimators=100\n",
    "                              #eta=0.01, \n",
    "                              #max_depth=10,  \n",
    "                              #subsample=0.7,\n",
    "                              #colsample_bytree=0.9\n",
    "                            ).fit( x_train, y_train )\n",
    "\n",
    "# create predictions\n",
    "yhat_xgb = xgb_model.predict( x_validation )\n",
    "\n",
    "# calculate performance\n",
    "xgb_model_result = ml_error( 'XGBoost Regressor', np.expm1( y_validation ), np.expm1( yhat_xgb) )\n",
    "xgb_model_result"
   ]
  },
  {
   "cell_type": "markdown",
   "metadata": {},
   "source": [
    "### 1.5.1 XGBoost Model - Cross Validation"
   ]
  },
  {
   "cell_type": "code",
   "execution_count": 13,
   "metadata": {},
   "outputs": [
    {
     "name": "stdout",
     "output_type": "stream",
     "text": [
      "\n",
      "Validation Block: 5. Dates: 2015-01-02 00:00:00 - 2015-02-13 00:00:00\n",
      "\n",
      "Validation Block: 4. Dates: 2015-02-13 00:00:00 - 2015-03-27 00:00:00\n",
      "\n",
      "Validation Block: 3. Dates: 2015-03-27 00:00:00 - 2015-05-08 00:00:00\n",
      "\n",
      "Validation Block: 2. Dates: 2015-05-08 00:00:00 - 2015-06-19 00:00:00\n",
      "\n",
      "Validation Block: 1. Dates: 2015-06-19 00:00:00 - 2015-07-31 00:00:00\n"
     ]
    },
    {
     "data": {
      "text/html": [
       "<div>\n",
       "<style scoped>\n",
       "    .dataframe tbody tr th:only-of-type {\n",
       "        vertical-align: middle;\n",
       "    }\n",
       "\n",
       "    .dataframe tbody tr th {\n",
       "        vertical-align: top;\n",
       "    }\n",
       "\n",
       "    .dataframe thead th {\n",
       "        text-align: right;\n",
       "    }\n",
       "</style>\n",
       "<table border=\"1\" class=\"dataframe\">\n",
       "  <thead>\n",
       "    <tr style=\"text-align: right;\">\n",
       "      <th></th>\n",
       "      <th>Model Name</th>\n",
       "      <th>MAE CV</th>\n",
       "      <th>MAPE CV</th>\n",
       "      <th>RMSE CV</th>\n",
       "    </tr>\n",
       "  </thead>\n",
       "  <tbody>\n",
       "    <tr>\n",
       "      <th>0</th>\n",
       "      <td>XGBoost Regressor</td>\n",
       "      <td>985.44 +/- 81.38</td>\n",
       "      <td>0.14 +/- 0.01</td>\n",
       "      <td>1408.7 +/- 124.15</td>\n",
       "    </tr>\n",
       "  </tbody>\n",
       "</table>\n",
       "</div>"
      ],
      "text/plain": [
       "          Model Name            MAE CV        MAPE CV            RMSE CV\n",
       "0  XGBoost Regressor  985.44 +/- 81.38  0.14 +/- 0.01  1408.7 +/- 124.15"
      ]
     },
     "execution_count": 13,
     "metadata": {},
     "output_type": "execute_result"
    }
   ],
   "source": [
    "xgb_model_result_cv = cross_validation( X_train, 5, 'XGBoost Regressor', xgb_model, verbose=True )\n",
    "xgb_model_result_cv"
   ]
  },
  {
   "cell_type": "markdown",
   "metadata": {},
   "source": [
    "## 1.6 Models Performance"
   ]
  },
  {
   "cell_type": "markdown",
   "metadata": {},
   "source": [
    "### 1.6.1 Single Performance"
   ]
  },
  {
   "cell_type": "code",
   "execution_count": 15,
   "metadata": {},
   "outputs": [
    {
     "data": {
      "text/html": [
       "<div>\n",
       "<style scoped>\n",
       "    .dataframe tbody tr th:only-of-type {\n",
       "        vertical-align: middle;\n",
       "    }\n",
       "\n",
       "    .dataframe tbody tr th {\n",
       "        vertical-align: top;\n",
       "    }\n",
       "\n",
       "    .dataframe thead th {\n",
       "        text-align: right;\n",
       "    }\n",
       "</style>\n",
       "<table border=\"1\" class=\"dataframe\">\n",
       "  <thead>\n",
       "    <tr style=\"text-align: right;\">\n",
       "      <th></th>\n",
       "      <th>Model Name</th>\n",
       "      <th>MAE</th>\n",
       "      <th>MAPE</th>\n",
       "      <th>RMSE</th>\n",
       "    </tr>\n",
       "  </thead>\n",
       "  <tbody>\n",
       "    <tr>\n",
       "      <th>0</th>\n",
       "      <td>Average Model</td>\n",
       "      <td>1892.237342</td>\n",
       "      <td>0.259841</td>\n",
       "      <td>2476.199792</td>\n",
       "    </tr>\n",
       "    <tr>\n",
       "      <th>0</th>\n",
       "      <td>Linear Regression Model</td>\n",
       "      <td>2747.082489</td>\n",
       "      <td>0.313411</td>\n",
       "      <td>3955.414335</td>\n",
       "    </tr>\n",
       "    <tr>\n",
       "      <th>0</th>\n",
       "      <td>Linear Regression Regularized Model - Lasso</td>\n",
       "      <td>2747.164557</td>\n",
       "      <td>0.316044</td>\n",
       "      <td>3957.739050</td>\n",
       "    </tr>\n",
       "    <tr>\n",
       "      <th>0</th>\n",
       "      <td>XGBoost Regressor</td>\n",
       "      <td>1409.380561</td>\n",
       "      <td>0.190944</td>\n",
       "      <td>1957.450144</td>\n",
       "    </tr>\n",
       "  </tbody>\n",
       "</table>\n",
       "</div>"
      ],
      "text/plain": [
       "                                    Model Name          MAE      MAPE  \\\n",
       "0                                Average Model  1892.237342  0.259841   \n",
       "0                      Linear Regression Model  2747.082489  0.313411   \n",
       "0  Linear Regression Regularized Model - Lasso  2747.164557  0.316044   \n",
       "0                            XGBoost Regressor  1409.380561  0.190944   \n",
       "\n",
       "          RMSE  \n",
       "0  2476.199792  \n",
       "0  3955.414335  \n",
       "0  3957.739050  \n",
       "0  1957.450144  "
      ]
     },
     "execution_count": 15,
     "metadata": {},
     "output_type": "execute_result"
    }
   ],
   "source": [
    "models_result = pd.concat( [avg_model_result, lr_model_result, lasso_model_result, xgb_model_result] )\n",
    "models_result"
   ]
  },
  {
   "cell_type": "markdown",
   "metadata": {},
   "source": [
    "### 1.6.2 Cross Validation Performance"
   ]
  },
  {
   "cell_type": "code",
   "execution_count": 16,
   "metadata": {},
   "outputs": [
    {
     "data": {
      "text/html": [
       "<div>\n",
       "<style scoped>\n",
       "    .dataframe tbody tr th:only-of-type {\n",
       "        vertical-align: middle;\n",
       "    }\n",
       "\n",
       "    .dataframe tbody tr th {\n",
       "        vertical-align: top;\n",
       "    }\n",
       "\n",
       "    .dataframe thead th {\n",
       "        text-align: right;\n",
       "    }\n",
       "</style>\n",
       "<table border=\"1\" class=\"dataframe\">\n",
       "  <thead>\n",
       "    <tr style=\"text-align: right;\">\n",
       "      <th></th>\n",
       "      <th>Model Name</th>\n",
       "      <th>MAE CV</th>\n",
       "      <th>MAPE CV</th>\n",
       "      <th>RMSE CV</th>\n",
       "    </tr>\n",
       "  </thead>\n",
       "  <tbody>\n",
       "    <tr>\n",
       "      <th>0</th>\n",
       "      <td>Linear Regression</td>\n",
       "      <td>1946.31 +/- 100.86</td>\n",
       "      <td>0.3 +/- 0.02</td>\n",
       "      <td>2740.6 +/- 184.58</td>\n",
       "    </tr>\n",
       "    <tr>\n",
       "      <th>0</th>\n",
       "      <td>Linear Regression Regularized - Lasso</td>\n",
       "      <td>1943.94 +/- 117.43</td>\n",
       "      <td>0.3 +/- 0.01</td>\n",
       "      <td>2764.83 +/- 206.7</td>\n",
       "    </tr>\n",
       "    <tr>\n",
       "      <th>0</th>\n",
       "      <td>XGBoost Regressor</td>\n",
       "      <td>985.44 +/- 81.38</td>\n",
       "      <td>0.14 +/- 0.01</td>\n",
       "      <td>1408.7 +/- 124.15</td>\n",
       "    </tr>\n",
       "  </tbody>\n",
       "</table>\n",
       "</div>"
      ],
      "text/plain": [
       "                              Model Name              MAE CV        MAPE CV  \\\n",
       "0                      Linear Regression  1946.31 +/- 100.86   0.3 +/- 0.02   \n",
       "0  Linear Regression Regularized - Lasso  1943.94 +/- 117.43   0.3 +/- 0.01   \n",
       "0                      XGBoost Regressor    985.44 +/- 81.38  0.14 +/- 0.01   \n",
       "\n",
       "             RMSE CV  \n",
       "0  2740.6 +/- 184.58  \n",
       "0  2764.83 +/- 206.7  \n",
       "0  1408.7 +/- 124.15  "
      ]
     },
     "execution_count": 16,
     "metadata": {},
     "output_type": "execute_result"
    }
   ],
   "source": [
    "models_result_cv = pd.concat( [lr_model_result_cv, lasso_model_result_cv, xgb_model_result_cv] )\n",
    "models_result_cv"
   ]
  }
 ],
 "metadata": {
  "kernelspec": {
   "display_name": "rossmann",
   "language": "python",
   "name": "python3"
  },
  "language_info": {
   "codemirror_mode": {
    "name": "ipython",
    "version": 3
   },
   "file_extension": ".py",
   "mimetype": "text/x-python",
   "name": "python",
   "nbconvert_exporter": "python",
   "pygments_lexer": "ipython3",
   "version": "3.11.5"
  }
 },
 "nbformat": 4,
 "nbformat_minor": 2
}
